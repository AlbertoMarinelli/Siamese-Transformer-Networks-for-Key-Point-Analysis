{
 "cells": [
  {
   "cell_type": "markdown",
   "metadata": {},
   "source": [
    "# Data preparation"
   ]
  },
  {
   "cell_type": "code",
   "execution_count": 1,
   "metadata": {},
   "outputs": [],
   "source": [
    "import sys\n",
    "sys.path.append('../src/')\n",
    "from data_configuration import configure_KPA_2021_shared_task"
   ]
  },
  {
   "cell_type": "markdown",
   "metadata": {},
   "source": [
    "Generation of training dataset"
   ]
  },
  {
   "cell_type": "code",
   "execution_count": 3,
   "metadata": {},
   "outputs": [],
   "source": [
    "args_path = '../kpm_data/arguments_train.csv'\n",
    "kps_path = '../kpm_data/key_points_train.csv'\n",
    "labels_path = '../kpm_data/labels_train.csv'\n",
    "type_name='train'\n",
    "\n",
    "configure_KPA_2021_shared_task(args_path, kps_path, labels_path, type_name, neg_value=0.5)"
   ]
  },
  {
   "cell_type": "markdown",
   "metadata": {},
   "source": [
    "Generation of dev dataset"
   ]
  },
  {
   "cell_type": "code",
   "execution_count": 5,
   "metadata": {},
   "outputs": [],
   "source": [
    "args_path = '../kpm_data/arguments_dev.csv'\n",
    "kps_path = '../kpm_data/key_points_dev.csv'\n",
    "labels_path = '../kpm_data/labels_dev.csv'\n",
    "type_name='dev'\n",
    "\n",
    "configure_KPA_2021_shared_task(args_path, kps_path, labels_path, type_name, neg_value=0.5)"
   ]
  },
  {
   "cell_type": "markdown",
   "metadata": {},
   "source": [
    "# Data analysis "
   ]
  },
  {
   "cell_type": "code",
   "execution_count": 6,
   "metadata": {},
   "outputs": [
    {
     "ename": "ModuleNotFoundError",
     "evalue": "No module named 'transformers'",
     "output_type": "error",
     "traceback": [
      "\u001b[1;31m---------------------------------------------------------------------------\u001b[0m",
      "\u001b[1;31mModuleNotFoundError\u001b[0m                       Traceback (most recent call last)",
      "Cell \u001b[1;32mIn [6], line 2\u001b[0m\n\u001b[0;32m      1\u001b[0m \u001b[39mimport\u001b[39;00m \u001b[39mpandas\u001b[39;00m \u001b[39mas\u001b[39;00m \u001b[39mpd\u001b[39;00m\n\u001b[1;32m----> 2\u001b[0m \u001b[39mfrom\u001b[39;00m \u001b[39mtransformers\u001b[39;00m \u001b[39mimport\u001b[39;00m BertTokenizer\n\u001b[0;32m      3\u001b[0m \u001b[39mimport\u001b[39;00m \u001b[39mtensorflow\u001b[39;00m \u001b[39mas\u001b[39;00m \u001b[39mtf\u001b[39;00m\n\u001b[0;32m      4\u001b[0m \u001b[39mimport\u001b[39;00m \u001b[39mmatplotlib\u001b[39;00m\u001b[39m.\u001b[39;00m\u001b[39mpyplot\u001b[39;00m \u001b[39mas\u001b[39;00m \u001b[39mplt\u001b[39;00m\n",
      "\u001b[1;31mModuleNotFoundError\u001b[0m: No module named 'transformers'"
     ]
    }
   ],
   "source": [
    "import pandas as pd\n",
    "from transformers import BertTokenizer\n",
    "import tensorflow as tf\n",
    "import matplotlib.pyplot as plt"
   ]
  },
  {
   "cell_type": "code",
   "execution_count": 2,
   "metadata": {},
   "outputs": [],
   "source": [
    "# read the data from original datasets provided in the github repo for the task\n",
    "df_arguments_train = pd.read_csv('../kpm_data/arguments_train.csv')[['arg_id', 'argument']]\n",
    "df_key_points_train = pd.read_csv('../kpm_data/key_points_train.csv')[['key_point_id', 'key_point']]\n",
    "df_labels_train = pd.read_csv('../kpm_data/labels_train.csv')\n",
    "\n",
    "df_arguments_dev = pd.read_csv('../kpm_data/arguments_dev.csv')[['arg_id', 'argument']]\n",
    "df_key_points_dev = pd.read_csv('../kpm_data/key_points_dev.csv')[['key_point_id', 'key_point']]\n",
    "df_labels_dev = pd.read_csv('../kpm_data/labels_dev.csv')"
   ]
  },
  {
   "cell_type": "markdown",
   "metadata": {},
   "source": [
    "Number of args / kps in datsets"
   ]
  },
  {
   "cell_type": "code",
   "execution_count": 3,
   "metadata": {},
   "outputs": [
    {
     "name": "stdout",
     "output_type": "stream",
     "text": [
      " we have \n",
      "   5583 training arguments, \n",
      "   932 dev arguments,\n",
      "   6515 total arguments. \n",
      "     \n",
      "   207 training key_points, \n",
      "   36 dev key_points,\n",
      "   243 total key_points. \n"
     ]
    }
   ],
   "source": [
    "print(\n",
    "f' we have \\n \\\n",
    "  {len( df_arguments_train )} training arguments, \\n \\\n",
    "  {len( df_arguments_dev )} dev arguments,\\n \\\n",
    "  {len( df_arguments_train ) + len( df_arguments_dev )} total arguments. \\n \\\n",
    "    \\n \\\n",
    "  {len( df_key_points_train )} training key_points, \\n \\\n",
    "  {len( df_key_points_dev )} dev key_points,\\n \\\n",
    "  {len( df_key_points_train ) + len( df_key_points_dev )} total key_points. '\n",
    ")"
   ]
  },
  {
   "cell_type": "markdown",
   "metadata": {},
   "source": [
    "Statistics on lenght of sentences"
   ]
  },
  {
   "cell_type": "code",
   "execution_count": 4,
   "metadata": {},
   "outputs": [
    {
     "data": {
      "text/html": [
       "<div>\n",
       "<style scoped>\n",
       "    .dataframe tbody tr th:only-of-type {\n",
       "        vertical-align: middle;\n",
       "    }\n",
       "\n",
       "    .dataframe tbody tr th {\n",
       "        vertical-align: top;\n",
       "    }\n",
       "\n",
       "    .dataframe thead th {\n",
       "        text-align: right;\n",
       "    }\n",
       "</style>\n",
       "<table border=\"1\" class=\"dataframe\">\n",
       "  <thead>\n",
       "    <tr style=\"text-align: right;\">\n",
       "      <th></th>\n",
       "      <th>count</th>\n",
       "      <th>mean lenght</th>\n",
       "      <th>std deviation lenght</th>\n",
       "      <th>min lenght</th>\n",
       "      <th>25%</th>\n",
       "      <th>50%</th>\n",
       "      <th>75%</th>\n",
       "      <th>max</th>\n",
       "    </tr>\n",
       "    <tr>\n",
       "      <th>index</th>\n",
       "      <th></th>\n",
       "      <th></th>\n",
       "      <th></th>\n",
       "      <th></th>\n",
       "      <th></th>\n",
       "      <th></th>\n",
       "      <th></th>\n",
       "      <th></th>\n",
       "    </tr>\n",
       "  </thead>\n",
       "  <tbody>\n",
       "    <tr>\n",
       "      <th>arguments_train</th>\n",
       "      <td>932.0</td>\n",
       "      <td>110.171674</td>\n",
       "      <td>42.420388</td>\n",
       "      <td>36.0</td>\n",
       "      <td>77.0</td>\n",
       "      <td>103.0</td>\n",
       "      <td>138.0</td>\n",
       "      <td>227.0</td>\n",
       "    </tr>\n",
       "    <tr>\n",
       "      <th>arguments_dev</th>\n",
       "      <td>5583.0</td>\n",
       "      <td>110.741358</td>\n",
       "      <td>42.542870</td>\n",
       "      <td>34.0</td>\n",
       "      <td>78.0</td>\n",
       "      <td>105.0</td>\n",
       "      <td>139.0</td>\n",
       "      <td>244.0</td>\n",
       "    </tr>\n",
       "    <tr>\n",
       "      <th>key_points_train</th>\n",
       "      <td>36.0</td>\n",
       "      <td>41.250000</td>\n",
       "      <td>11.405199</td>\n",
       "      <td>24.0</td>\n",
       "      <td>32.5</td>\n",
       "      <td>39.5</td>\n",
       "      <td>54.0</td>\n",
       "      <td>60.0</td>\n",
       "    </tr>\n",
       "    <tr>\n",
       "      <th>key_points_dev</th>\n",
       "      <td>207.0</td>\n",
       "      <td>52.164251</td>\n",
       "      <td>17.595842</td>\n",
       "      <td>17.0</td>\n",
       "      <td>40.0</td>\n",
       "      <td>49.0</td>\n",
       "      <td>63.0</td>\n",
       "      <td>116.0</td>\n",
       "    </tr>\n",
       "  </tbody>\n",
       "</table>\n",
       "</div>"
      ],
      "text/plain": [
       "                   count  mean lenght  std deviation lenght  min lenght   25%  \\\n",
       "index                                                                           \n",
       "arguments_train    932.0   110.171674             42.420388        36.0  77.0   \n",
       "arguments_dev     5583.0   110.741358             42.542870        34.0  78.0   \n",
       "key_points_train    36.0    41.250000             11.405199        24.0  32.5   \n",
       "key_points_dev     207.0    52.164251             17.595842        17.0  40.0   \n",
       "\n",
       "                    50%    75%    max  \n",
       "index                                  \n",
       "arguments_train   103.0  138.0  227.0  \n",
       "arguments_dev     105.0  139.0  244.0  \n",
       "key_points_train   39.5   54.0   60.0  \n",
       "key_points_dev     49.0   63.0  116.0  "
      ]
     },
     "execution_count": 4,
     "metadata": {},
     "output_type": "execute_result"
    }
   ],
   "source": [
    "d = pd.concat( [pd.DataFrame( ),\n",
    " df_arguments_dev['argument'].map(lambda x: len(x)).describe().to_frame().T,\n",
    " df_arguments_train['argument'].map(lambda x: len(x)).describe().to_frame().T,\n",
    " df_key_points_dev['key_point'].map(lambda x: len(x)).describe().to_frame().T,\n",
    " df_key_points_train['key_point'].map(lambda x: len(x)).describe().to_frame().T,])\n",
    "d['index'] = ['arguments_train','arguments_dev','key_points_train','key_points_dev']\n",
    "d.columns = ['count', 'mean lenght', 'std deviation lenght', 'min lenght', '25%', '50%', '75%', 'max', 'index']\n",
    "d.set_index('index')"
   ]
  },
  {
   "cell_type": "markdown",
   "metadata": {},
   "source": [
    "Number of elements in datasets"
   ]
  },
  {
   "cell_type": "code",
   "execution_count": 5,
   "metadata": {},
   "outputs": [
    {
     "name": "stdout",
     "output_type": "stream",
     "text": [
      " we have \n",
      "   20635 training samples, \n",
      "   3458 dev samples,\n",
      "   24093 total samples. \n",
      "   \n"
     ]
    }
   ],
   "source": [
    "print(\n",
    "f' we have \\n \\\n",
    "  {len( df_labels_train )} training samples, \\n \\\n",
    "  {len( df_labels_dev )} dev samples,\\n \\\n",
    "  {len( df_labels_train ) + len( df_labels_dev )} total samples. \\n \\\n",
    "  '\n",
    ")"
   ]
  },
  {
   "cell_type": "markdown",
   "metadata": {},
   "source": [
    "Barplot positive and negative distribution"
   ]
  },
  {
   "cell_type": "code",
   "execution_count": 6,
   "metadata": {},
   "outputs": [
    {
     "name": "stdout",
     "output_type": "stream",
     "text": [
      " on train set we have \n",
      " 20635 training samples, \n",
      " 16375 negative samples \n",
      " 4260 positive samples \n",
      " 26.01526717557252% positive \n",
      "\n",
      " on dev set \n",
      " 3458 dev samples,\n",
      " 2720 negative samples \n",
      " 738 positive samples \n",
      " 27.132352941176467% positive \n"
     ]
    },
    {
     "data": {
      "text/plain": [
       "<matplotlib.legend.Legend at 0x7f46d7cba730>"
      ]
     },
     "execution_count": 6,
     "metadata": {},
     "output_type": "execute_result"
    },
    {
     "data": {
      "image/png": "[encoded data removed]",
      "text/plain": [
       "<Figure size 432x288 with 1 Axes>"
      ]
     },
     "metadata": {
      "needs_background": "light"
     },
     "output_type": "display_data"
    }
   ],
   "source": [
    "print(f' on train set we have \\n \\\n",
    "{len( df_labels_train )} training samples, \\n \\\n",
    "{sum(df_labels_train[\"label\"] == 0)} negative samples \\n \\\n",
    "{sum(df_labels_train[\"label\"] == 1)} positive samples \\n \\\n",
    "{(sum(df_labels_train[\"label\"] == 1)/ sum(df_labels_train[\"label\"] == 0))*100}% positive ')\n",
    "\n",
    "print()\n",
    "\n",
    "print(f' on dev set \\n \\\n",
    "{len( df_labels_dev )} dev samples,\\n \\\n",
    "{sum(df_labels_dev[\"label\"] == 0)} negative samples \\n \\\n",
    "{sum(df_labels_dev[\"label\"] == 1)} positive samples \\n \\\n",
    "{(sum(df_labels_dev[\"label\"] == 1)/ sum(df_labels_dev[\"label\"] == 0))*100}% positive ')\n",
    "\n",
    "import matplotlib.pyplot as plt\n",
    "import numpy as np\n",
    "\n",
    "# compute numbers to plot\n",
    "s1_train = sum(df_labels_dev['label']==1)\n",
    "s1_dev = sum(df_labels_train['label']==1)\n",
    "\n",
    "s0_train = sum(df_labels_dev['label']==0)\n",
    "s0_dev = sum(df_labels_train['label']==0)\n",
    "\n",
    "# assemble vectors to plot\n",
    "train_bar = [s1_train,s0_train]\n",
    "dev_bar = [s1_dev,s0_dev]\n",
    "\n",
    "ind = np.array([.5,1]) # this is .5 bc otherwise bars are two spaced\n",
    "width = .2 # this is widht of the bars\n",
    "\n",
    "# index has to be translated\n",
    "fig, ax = plt.subplots()\n",
    "ax.bar(ind-(width/2),train_bar,width,alpha=.7,label='train')\n",
    "ax.bar(ind+(width/2),dev_bar,width,alpha=.7,label='dev')\n",
    "plt.xticks(ind, labels=['negative','positive'])\n",
    "plt.legend()"
   ]
  },
  {
   "cell_type": "markdown",
   "metadata": {},
   "source": [
    "Analysis on tokens lenght"
   ]
  },
  {
   "cell_type": "code",
   "execution_count": 7,
   "metadata": {},
   "outputs": [],
   "source": [
    "tokenizer = BertTokenizer.from_pretrained('bert-base-uncased')\n",
    "\n",
    "# per calcolare max len\n",
    "# max(list(map(lambda x:len(x), args))) , max(list(map(lambda x:len(x), kps)))\n",
    "MAX_LEN = 250\n",
    "tokenized_args_train = tokenizer(df_arguments_train['argument'].tolist(), max_length=MAX_LEN, return_tensors='tf', padding='max_length')\n",
    "tokenized_kps_train = tokenizer(df_key_points_train['key_point'].tolist(), max_length=MAX_LEN, return_tensors='tf', padding='max_length')\n",
    "\n",
    "tokenized_args_dev = tokenizer(df_arguments_dev['argument'].tolist(), max_length=MAX_LEN, return_tensors='tf', padding='max_length')\n",
    "tokenized_kps_dev = tokenizer(df_key_points_dev['key_point'].tolist(), max_length=MAX_LEN, return_tensors='tf', padding='max_length')"
   ]
  },
  {
   "cell_type": "code",
   "execution_count": 8,
   "metadata": {},
   "outputs": [],
   "source": [
    "pd.Series( list(map(lambda x: tf.math.count_nonzero(x).numpy(), tokenized_args_train['input_ids'])) ).describe()\n",
    "\n",
    "d = pd.concat( [pd.DataFrame( ),\n",
    " pd.Series( list(map(lambda x: tf.math.count_nonzero(x).numpy(), tokenized_args_train['input_ids'])) ).describe().to_frame().T,\n",
    " pd.Series( list(map(lambda x: tf.math.count_nonzero(x).numpy(), tokenized_args_dev['input_ids'])) ).describe().to_frame().T,\n",
    " pd.Series( list(map(lambda x: tf.math.count_nonzero(x).numpy(), tokenized_kps_train['input_ids'])) ).describe().to_frame().T,\n",
    " pd.Series( list(map(lambda x: tf.math.count_nonzero(x).numpy(), tokenized_kps_dev['input_ids'])) ).describe().to_frame().T,\n",
    "])"
   ]
  },
  {
   "cell_type": "markdown",
   "metadata": {},
   "source": [
    "Boxplot lengths of tokens"
   ]
  },
  {
   "cell_type": "code",
   "execution_count": 9,
   "metadata": {},
   "outputs": [
    {
     "data": {
      "image/png": "[encoded data removed]",
      "text/plain": [
       "<Figure size 720x216 with 4 Axes>"
      ]
     },
     "metadata": {
      "needs_background": "light"
     },
     "output_type": "display_data"
    }
   ],
   "source": [
    "plt.rcParams[\"figure.figsize\"] = (6,3)\n",
    "pd.DataFrame(\n",
    "  {\n",
    "  'args_train':  pd.Series( list(map(lambda x: tf.math.count_nonzero(x).numpy(), tokenized_args_train['input_ids'])) ) ,\n",
    "  'args_dev':  pd.Series( list(map(lambda x: tf.math.count_nonzero(x).numpy(), tokenized_args_dev['input_ids'])) ) ,\n",
    "  'kps_train':  pd.Series( list(map(lambda x: tf.math.count_nonzero(x).numpy(), tokenized_kps_train['input_ids'])) ) ,\n",
    "  'kps_dev':  pd.Series( list(map(lambda x: tf.math.count_nonzero(x).numpy(), tokenized_kps_dev['input_ids'])) ) ,\n",
    "  }\n",
    ").plot(kind='box')"
   ]
  }
 ],
 "metadata": {
  "kernelspec": {
   "display_name": "Python 3.9.7 ('base')",
   "language": "python",
   "name": "python3"
  },
  "language_info": {
   "codemirror_mode": {
    "name": "ipython",
    "version": 3
   },
   "file_extension": ".py",
   "mimetype": "text/x-python",
   "name": "python",
   "nbconvert_exporter": "python",
   "pygments_lexer": "ipython3",
   "version": "3.9.7"
  },
  "orig_nbformat": 4,
  "vscode": {
   "interpreter": {
    "hash": "7c39e21a772e99c1a7e3fb7ef3402580462d255e64df51b314942f2f47217269"
   }
  }
 },
 "nbformat": 4,
 "nbformat_minor": 2
}
